{
 "cells": [
  {
   "cell_type": "code",
   "execution_count": null,
   "metadata": {},
   "outputs": [],
   "source": [
    "import videos_to_images\n",
    "\n",
    "video_path = f\"videos/TDPK\"\n",
    "video_type = \"MOV\"\n",
    "skip_frame = 60\n",
    "image_path = f\"images/TDPK\"\n",
    "\n",
    "num_images = 48\n",
    "image_type = \"jpg\"\n",
    "is_half = False\n",
    "\n",
    "videos_to_images.main(video_path, skip_frame, image_path, video_type)"
   ]
  },
  {
   "cell_type": "code",
   "execution_count": 1,
   "metadata": {},
   "outputs": [
    {
     "name": "stdout",
     "output_type": "stream",
     "text": [
      "cameraInfo pixelFocalLength: 4608.0\n",
      "principalPointX: 1920.0\n",
      "principalPointY: 1080.0\n",
      "\n",
      "0 images/TDPK/IMG_2838/1/IMG_2838-180.jpg\n",
      "Client send: request-image-IMG_2838-180.jpg\n",
      "Client received message:  Localization Successful\n",
      "Client received worldCoor:  latitude: 1.2345\n",
      "longitude: 5.4321\n",
      "utm_x: 1.2345\n",
      "utm_y: 5.4321\n",
      "\n",
      "Client received colmapCoor:  qw: 0.6926466517900064\n",
      "qx: -0.2724819212618305\n",
      "qy: 0.6676241459801947\n",
      "qz: 0.01649903190405746\n",
      "tx: -3.194755883983452\n",
      "ty: -2.191047745075403\n",
      "tz: 1.067876904842305\n",
      "px: 0.5952112790259104\n",
      "py: 1.0086924744452983\n",
      "pz: 3.843927612307527\n",
      "\n",
      "---------------------------------------\n",
      "Total Responses Time: 8.471291780471802 seconds\n",
      "[{'qw': 0.6926466517900064, 'qx': -0.2724819212618305, 'qy': 0.6676241459801947, 'qz': 0.01649903190405746, 'tx': -3.194755883983452, 'ty': -2.191047745075403, 'tz': 1.067876904842305, 'px': 0.5952112790259104, 'py': 1.0086924744452983, 'pz': 3.843927612307527}]\n"
     ]
    }
   ],
   "source": [
    "from client_ssl import main\n",
    "\n",
    "image_dir_name = \"IMG_2838\"\n",
    "image_path = f\"images/TDPK/{image_dir_name}/1\"\n",
    "num_images = 1\n",
    "image_type = \"jpg\"\n",
    "is_half = False\n",
    "\n",
    "poses = None\n",
    "\n",
    "async def loc():\n",
    "    poses = await main(num_images, image_path, image_type, is_half)\n",
    "    print(poses)\n",
    "\n",
    "await loc()\n",
    "# poses = await main(num_images, image_path, image_type, is_half)"
   ]
  },
  {
   "cell_type": "code",
   "execution_count": null,
   "metadata": {},
   "outputs": [],
   "source": [
    "### 0 images/TDPK/IMG_2838/1/IMG_2838-180.jpg ---- COLMAP GUI => 0.024556, -0.206763(y not invert), 1.57891(x)\n",
    "\n",
    "# cameraInfo pixelFocalLength: 3000.0\n",
    "# principalPointX: 2000.0\n",
    "# principalPointY: 1500.0\n",
    "[{'qw': 0.49589349802314703, 'qx': -0.04633322027621405, 'qy': 0.7497274609799366, 'qz': 0.43571964101906285, 'tx': -3.7248764748208085, 'ty': -1.9891851419287896, 'tz': 1.2515835984594477, 'px': -0.17432671330167734, 'py': -1.4033102643301967, 'pz': 4.171133453215256}]\n",
    "\n",
    "# cameraInfo pixelFocalLength: 4608.0\n",
    "# principalPointX: 1920.0\n",
    "# principalPointY: 1080.0\n",
    "[{'qw': 0.6926466517900064, 'qx': -0.2724819212618305, 'qy': 0.6676241459801947, 'qz': 0.01649903190405746, 'tx': -3.194755883983452, 'ty': -2.191047745075403, 'tz': 1.067876904842305, 'px': 0.5952112790259104, 'py': 1.0086924744452983, 'pz': 3.843927612307527}]\n",
    "\n",
    "# 2\n",
    "[{'qw': 0.12881361910154532, 'qx': -0.013611421314637382, 'qy': -0.2960997943563605, 'qz': 0.9463332882900605, 'tx': -4.6674632307830075, 'ty': 0.12130898824235793, 'tz': 3.320746417792719, 'px': -4.709161958472026, 'py': 0.8683527720361032, 'pz': -3.1459565738897375}, \n",
    "{'qw': 0.06175979722086383, 'qx': 0.7508985804114899, 'qy': -0.33755561248322863, 'qz': 0.5642634649384268, 'tx': -3.9946001279100734, 'ty': -15.924800195973004, 'tz': 45.48372768888774, 'px': -46.8621903595279, 'py': -1.3697383319413867, 'pz': 11.848396834586284}, \n",
    "{'qw': 0.025840183626326688, 'qx': -0.6816194294455507, 'qy': 0.6823003208900198, 'qz': -0.26304659364047234, 'tx': -1.2124035752141358, 'ty': -0.4818264645128992, 'tz': 4.828022865891795, 'px': -2.099985238049173, 'py': 0.7593182763253165, 'pz': 4.474972817781685}]\n"
   ]
  },
  {
   "cell_type": "code",
   "execution_count": null,
   "metadata": {},
   "outputs": [],
   "source": [
    "# IN TERMINAL\n",
    "python visualize_model.py --input_model \"models/TDPK\" --input_format \".bin\"\n",
    "\n",
    "enter qvec: 0.37615903111622084 -0.3922723577872994 0.41673396189910833 0.728669737004064\n",
    "enter tvec: -17.751593874080697 -19.250531965217444 70.54061949482946"
   ]
  },
  {
   "cell_type": "code",
   "execution_count": null,
   "metadata": {},
   "outputs": [],
   "source": []
  }
 ],
 "metadata": {
  "interpreter": {
   "hash": "7d6ac84f7defd154db56b1688f061772b0a316594a3150bc8fc94558622a6fb1"
  },
  "kernelspec": {
   "display_name": "Python 3.9.7 64-bit ('venv': venv)",
   "language": "python",
   "name": "python3"
  },
  "language_info": {
   "codemirror_mode": {
    "name": "ipython",
    "version": 3
   },
   "file_extension": ".py",
   "mimetype": "text/x-python",
   "name": "python",
   "nbconvert_exporter": "python",
   "pygments_lexer": "ipython3",
   "version": "3.9.7"
  },
  "orig_nbformat": 4
 },
 "nbformat": 4,
 "nbformat_minor": 2
}
