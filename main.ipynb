{
 "cells": [
  {
   "cell_type": "code",
   "execution_count": null,
   "metadata": {},
   "outputs": [],
   "source": [
    "import videos_to_images\n",
    "\n",
    "video_path = f\"videos/TDPK\"\n",
    "video_type = \"MOV\"\n",
    "skip_frame = 60\n",
    "image_path = f\"images/TDPK\"\n",
    "\n",
    "num_images = 48\n",
    "image_type = \"jpg\"\n",
    "is_half = False\n",
    "\n",
    "videos_to_images.main(video_path, skip_frame, image_path, video_type)"
   ]
  },
  {
   "cell_type": "code",
   "execution_count": null,
   "metadata": {},
   "outputs": [],
   "source": [
    "from client_ssl import main\n",
    "\n",
    "image_dir_name = \"IMG_2838\"\n",
    "image_path = f\"images/TDPK/{image_dir_name}\"\n",
    "num_images = 3\n",
    "image_type = \"jpg\"\n",
    "is_half = False\n",
    "\n",
    "poses = None\n",
    "\n",
    "async def loc():\n",
    "    poses = await main(num_images, image_path, image_type, is_half)\n",
    "    print(poses)\n",
    "\n",
    "await loc()\n",
    "# poses = await main(num_images, image_path, image_type, is_half)"
   ]
  },
  {
   "cell_type": "code",
   "execution_count": null,
   "metadata": {},
   "outputs": [],
   "source": [
    "# a = [{'qw': 0.37615903111622084 -0.3922723577872994 0.41673396189910833 0.728669737004064, 'tx': -17.751593874080697 -19.250531965217444 70.54061949482946, 'px': 59.43606519645023, 'py': -44.67495529649679, 'pz': -11.54051939679513}, {'qw': -0.14625649866407953, 'qx': -0.059777946697599546, 'qy': -0.2691461275486506, 'qz': 0.9500505227158756, 'tx': -1.8838497069078814, 'ty': -0.8819652628340782, 'tz': 9.839544147958865, 'px': -0.11424054882704382, 'py': 4.727627688242077, 'pz': -8.875802331117171}, {'qw': 0.9278326766581423, 'qx': 0.1087006204348086, 'qy': 0.048183864214389284, 'qz': -0.35353785436901086, 'tx': -2.067740760363061, 'ty': 1.1393243659723136, 'tz': 6.197995327381249, 'px': 3.307323831792311, 'py': -0.48844345744209505, 'pz': -5.728157644631078}]\n",
    "print(poses)"
   ]
  },
  {
   "cell_type": "code",
   "execution_count": null,
   "metadata": {},
   "outputs": [],
   "source": [
    "# IN TERMINAL\n",
    "python visualize_model.py --input_model \"models/TDPK\" --input_format \".bin\"\n",
    "\n",
    "enter qvec: 0.37615903111622084 -0.3922723577872994 0.41673396189910833 0.728669737004064\n",
    "enter tvec: -17.751593874080697 -19.250531965217444 70.54061949482946"
   ]
  },
  {
   "cell_type": "code",
   "execution_count": null,
   "metadata": {},
   "outputs": [],
   "source": []
  }
 ],
 "metadata": {
  "interpreter": {
   "hash": "7d6ac84f7defd154db56b1688f061772b0a316594a3150bc8fc94558622a6fb1"
  },
  "kernelspec": {
   "display_name": "Python 3.9.7 64-bit ('venv': venv)",
   "language": "python",
   "name": "python3"
  },
  "language_info": {
   "codemirror_mode": {
    "name": "ipython",
    "version": 3
   },
   "file_extension": ".py",
   "mimetype": "text/x-python",
   "name": "python",
   "nbconvert_exporter": "python",
   "pygments_lexer": "ipython3",
   "version": "3.9.7"
  },
  "orig_nbformat": 4
 },
 "nbformat": 4,
 "nbformat_minor": 2
}
