{
 "cells": [
  {
   "cell_type": "code",
   "execution_count": null,
   "metadata": {},
   "outputs": [],
   "source": [
    "import videos_to_images\n",
    "\n",
    "video_path = f\"videos/TDPK\"\n",
    "video_type = \"MOV\"\n",
    "skip_frame = 60\n",
    "image_path = f\"images/TDPK\"\n",
    "\n",
    "num_images = 48\n",
    "image_type = \"jpg\"\n",
    "is_half = False\n",
    "\n",
    "videos_to_images.main(video_path, skip_frame, image_path, video_type)"
   ]
  },
  {
   "cell_type": "code",
   "execution_count": null,
   "metadata": {},
   "outputs": [],
   "source": [
    "from client_ssl import main\n",
    "\n",
    "image_dir_name = \"Dataset\" # Dataset, IMG_2838\n",
    "image_path = f\"images/TDPK/{image_dir_name}/1080\"\n",
    "num_images = 2\n",
    "image_type = \"jpg\"\n",
    "is_half = False\n",
    "\n",
    "poses = None\n",
    "\n",
    "async def loc():\n",
    "    poses = await main(num_images, image_path, image_type, is_half)\n",
    "    print(poses)\n",
    "\n",
    "await loc()\n",
    "# poses = await main(num_images, image_path, image_type, is_half)"
   ]
  },
  {
   "cell_type": "code",
   "execution_count": null,
   "metadata": {},
   "outputs": [],
   "source": [
    "# 0 images/TDPK/IMG_2838/2/IMG_2838-3000.jpg\n",
    "[0.9925150494709911 -0.11640702711778823 0.029614218414871975 0.022051727344384688]\n",
    "[0.020644626455630102 0.0508102725391235 -1.7463101829500391]\n",
    "[{'qw': 0.9925150494709911, 'qx': -0.11640702711778823, 'qy': 0.029614218414871975, 'qz': 0.022051727344384688, 'tx': 0.020644626455630102, 'ty': 0.0508102725391235, 'tz': -1.7463101829500391, 'px': -0.13408467376807282, 'py': -0.4495794102867109, 'pz': 1.6830052862598959}, \n",
    "# 1 images/TDPK/IMG_2838/2/IMG_2838-2940.jpg\n",
    "[0.9641217245681293 -0.09662278717198082 0.23027036231900047 0.09004941672421134]\n",
    "[-0.7440057839233902 0.060669753487651426 -1.5969640019004057]\n",
    "{'qw': 0.9641217245681293, 'qx': -0.09662278717198082, 'qy': 0.23027036231900047, 'qz': 0.09004941672421134, 'tx': -0.7440057839233902, 'ty': 0.060669753487651426, 'tz': -1.5969640019004057, 'px': -0.09166561131125969, 'py': -0.4521529895222616, 'pz': 1.7013743087970044}, \n",
    "# 2 images/TDPK/IMG_2838/2/IMG_2838-2880.jpg\n",
    "{'qw': 0.9171881503431856, 'qx': -0.10151860569262736, 'qy': 0.35388323183583825, 'qz': 0.1524025189873627, 'tx': -1.192454910064026, 'ty': -0.08846030024953819, 'tz': -1.3233952853410393, 'px': -0.043273226676602224, 'py': -0.4402174001172679, 'pz': 1.7278556325705927}]\n",
    "\n",
    "# TDPK/Dataset\n",
    "# 4k_IMG_2849-150.jpg\n",
    "[0.5268368055417589 -0.07133801019038029 -0.8060846236169967 -0.25996432100747624]\n",
    "[1.2885455034702107 -0.7151003512219679 1.9779605321465243]\n",
    "[{'qw': 0.5268368055417589, 'qx': -0.07133801019038029, 'qy': -0.8060846236169967, 'qz': -0.25996432100747624, 'tx': 1.2885455034702107, 'ty': -0.7151003512219679, 'tz': 1.9779605321465243, 'px': -1.3068397536221825, 'py': -0.5702813819592233, 'pz': 2.012708348793699}, \n",
    "~\n",
    "# 1080_IMG_2849-150.jpg\n",
    "\n",
    "\n",
    "# 720_IMG_2849-150.jpg\n",
    "\n",
    "\n",
    "# 256_IMG_2849-150.jpg\n",
    "\n",
    "\n",
    "# 128_IMG_2849-150.jpg\n",
    "\n",
    "\n",
    "# 4k_IMG_2847-6780.jpg\n",
    "[0.8211921855953135 -0.10170442542852225 0.5395883327623742 0.15538351042555013]\n",
    "[-0.0739774409082822 -0.4726647836415306 1.6021616390044089]\n",
    "{'qw': 0.8211921855953135, 'qx': -0.10170442542852225, 'qy': 0.5395883327623742, 'qz': 0.15538351042555013, 'tx': -0.0739774409082822, 'ty': -0.4726647836415306, 'tz': 1.6021616390044089, 'px': 1.5665653410289644, 'py': 0.4120248736266947, 'pz': -0.4146264737751739}]\n",
    "\n",
    "\n"
   ]
  },
  {
   "cell_type": "code",
   "execution_count": null,
   "metadata": {},
   "outputs": [],
   "source": [
    "# IN TERMINAL\n",
    "python visualize_model.py --input_model \"models/TDPK\" --input_format \".bin\"\n",
    "# TOGGLE \"-\" key to reduce point size\n",
    "\n",
    "enter qvec: 0.37615903111622084 -0.3922723577872994 0.41673396189910833 0.728669737004064\n",
    "enter tvec: -17.751593874080697 -19.250531965217444 70.54061949482946"
   ]
  },
  {
   "cell_type": "code",
   "execution_count": null,
   "metadata": {},
   "outputs": [],
   "source": []
  }
 ],
 "metadata": {
  "interpreter": {
   "hash": "7d6ac84f7defd154db56b1688f061772b0a316594a3150bc8fc94558622a6fb1"
  },
  "kernelspec": {
   "display_name": "Python 3.9.7 64-bit ('venv': venv)",
   "language": "python",
   "name": "python3"
  },
  "language_info": {
   "codemirror_mode": {
    "name": "ipython",
    "version": 3
   },
   "file_extension": ".py",
   "mimetype": "text/x-python",
   "name": "python",
   "nbconvert_exporter": "python",
   "pygments_lexer": "ipython3",
   "version": "3.9.7"
  },
  "orig_nbformat": 4
 },
 "nbformat": 4,
 "nbformat_minor": 2
}
