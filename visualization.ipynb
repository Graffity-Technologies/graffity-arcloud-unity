{
 "cells": [
  {
   "cell_type": "code",
   "execution_count": null,
   "metadata": {},
   "outputs": [],
   "source": [
    "import numpy as np\n",
    "import matplotlib.pyplot as plt\n",
    "\n",
    "from read_write_model import read_points3D_binary"
   ]
  },
  {
   "cell_type": "code",
   "execution_count": null,
   "metadata": {},
   "outputs": [],
   "source": [
    "points = read_points3D_binary('models/TDPK/points3D.bin')\n",
    "len(points)"
   ]
  },
  {
   "cell_type": "code",
   "execution_count": null,
   "metadata": {},
   "outputs": [],
   "source": [
    "k = sorted(list(points.keys()))\n",
    "coordinates = np.array([points[kid].xyz for kid in k])\n",
    "coordinates.shape"
   ]
  },
  {
   "cell_type": "code",
   "execution_count": null,
   "metadata": {},
   "outputs": [],
   "source": [
    "# show sample points\n",
    "for i in range(100):\n",
    "  print(coordinates[i])"
   ]
  },
  {
   "cell_type": "code",
   "execution_count": null,
   "metadata": {},
   "outputs": [],
   "source": [
    "# NOTE: Need to invert y-axis!!\n",
    "coordinates[:, 0] *= -1"
   ]
  },
  {
   "cell_type": "code",
   "execution_count": null,
   "metadata": {},
   "outputs": [],
   "source": [
    "pts = [\n",
    "    [], # \n",
    "    [], # \n",
    "    [], # \n",
    "    [], # \n",
    "]\n",
    "pts = np.array(pts)\n",
    "pts[:, 1] *= -1 # invert y axis\n",
    "print(pts)"
   ]
  },
  {
   "cell_type": "code",
   "execution_count": null,
   "metadata": {},
   "outputs": [],
   "source": [
    "plt.figure(figsize=(15, 15), dpi=250, facecolor='white')\n",
    "plt.grid()\n",
    "plt.xticks(np.arange(min(coordinates[:, 2]), max(coordinates[:, 2])+1, 10), rotation=90)\n",
    "plt.yticks(np.arange(min(coordinates[:, 0]), max(coordinates[:, 0])+1, 10), rotation=0)\n",
    "plt.xlim(-15, 15)\n",
    "plt.ylim(-15, 15)\n",
    "plt.scatter(x=coordinates[:, 2], y=coordinates[:, 0], s=0.001, c='red')\n",
    "\n",
    "plt.scatter(x=pts[0, 0], y=pts[0, 1], s=50, c='blue', label='TEST', alpha=1.0)\n",
    "plt.scatter(x=pts[1, 0], y=pts[1, 1], s=50, c='green', label='TEST', alpha=1.0)\n",
    "plt.scatter(x=pts[2, 0], y=pts[2, 1], s=50, c='yellow', label='TEST', alpha=1.0)\n",
    "plt.scatter(x=pts[3, 0], y=pts[3, 1], s=50, c='purple', label='TEST', alpha=1.0)\n",
    "\n",
    "# plt.plot([-2.2, 3.8], [-0.5, 3.75], c='lime')\n",
    "plt.legend()\n",
    "plt.show()"
   ]
  },
  {
   "cell_type": "code",
   "execution_count": null,
   "metadata": {},
   "outputs": [],
   "source": []
  }
 ],
 "metadata": {
  "interpreter": {
   "hash": "7d6ac84f7defd154db56b1688f061772b0a316594a3150bc8fc94558622a6fb1"
  },
  "kernelspec": {
   "display_name": "Python 3.9.7 64-bit ('venv': venv)",
   "language": "python",
   "name": "python3"
  },
  "language_info": {
   "codemirror_mode": {
    "name": "ipython",
    "version": 3
   },
   "file_extension": ".py",
   "mimetype": "text/x-python",
   "name": "python",
   "nbconvert_exporter": "python",
   "pygments_lexer": "ipython3",
   "version": "3.9.7"
  },
  "orig_nbformat": 4
 },
 "nbformat": 4,
 "nbformat_minor": 2
}
